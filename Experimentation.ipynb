{
 "cells": [
  {
   "cell_type": "code",
   "execution_count": 1,
   "id": "627562c5",
   "metadata": {},
   "outputs": [],
   "source": [
    "import flask"
   ]
  },
  {
   "cell_type": "code",
   "execution_count": 1,
   "id": "73b72cc5",
   "metadata": {},
   "outputs": [
    {
     "name": "stdout",
     "output_type": "stream",
     "text": [
      "Collecting authlib\n",
      "  Downloading Authlib-0.15.5-py2.py3-none-any.whl (203 kB)\n",
      "\u001b[K     |████████████████████████████████| 203 kB 1.4 MB/s eta 0:00:01\n",
      "\u001b[?25hRequirement already satisfied: cryptography in /Users/stlp/opt/anaconda3/lib/python3.9/site-packages (from authlib) (3.4.8)\n",
      "Requirement already satisfied: cffi>=1.12 in /Users/stlp/opt/anaconda3/lib/python3.9/site-packages (from cryptography->authlib) (1.14.6)\n",
      "Requirement already satisfied: pycparser in /Users/stlp/opt/anaconda3/lib/python3.9/site-packages (from cffi>=1.12->cryptography->authlib) (2.20)\n",
      "Installing collected packages: authlib\n",
      "Successfully installed authlib-0.15.5\n"
     ]
    }
   ],
   "source": [
    "379885467838-c19jsii830g3pbsdhts5m9egsp3s7h95.apps.googleusercontent.com\n",
    "\n",
    "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"
   ]
  },
  {
   "cell_type": "code",
   "execution_count": 4,
   "id": "80233ad2",
   "metadata": {},
   "outputs": [
    {
     "name": "stdout",
     "output_type": "stream",
     "text": [
      "Collecting flask_login\n",
      "  Downloading Flask_Login-0.5.0-py2.py3-none-any.whl (16 kB)\n",
      "Requirement already satisfied: Flask in /Users/stlp/opt/anaconda3/lib/python3.9/site-packages (from flask_login) (1.1.2)\n",
      "Requirement already satisfied: Werkzeug>=0.15 in /Users/stlp/opt/anaconda3/lib/python3.9/site-packages (from Flask->flask_login) (2.0.2)\n",
      "Requirement already satisfied: Jinja2>=2.10.1 in /Users/stlp/opt/anaconda3/lib/python3.9/site-packages (from Flask->flask_login) (2.11.3)\n",
      "Requirement already satisfied: itsdangerous>=0.24 in /Users/stlp/opt/anaconda3/lib/python3.9/site-packages (from Flask->flask_login) (2.0.1)\n",
      "Requirement already satisfied: click>=5.1 in /Users/stlp/opt/anaconda3/lib/python3.9/site-packages (from Flask->flask_login) (8.0.3)\n",
      "Requirement already satisfied: MarkupSafe>=0.23 in /Users/stlp/opt/anaconda3/lib/python3.9/site-packages (from Jinja2>=2.10.1->Flask->flask_login) (1.1.1)\n",
      "Installing collected packages: flask-login\n",
      "Successfully installed flask-login-0.5.0\n"
     ]
    }
   ],
   "source": [
    "! pip install flask_login"
   ]
  },
  {
   "cell_type": "markdown",
   "id": "f0a537ea",
   "metadata": {},
   "source": [
    "# OAuth code"
   ]
  },
  {
   "cell_type": "code",
   "execution_count": null,
   "id": "de01d715",
   "metadata": {},
   "outputs": [],
   "source": [
    "from flask import Flask\n",
    "import pymongo, json\n",
    "from bson import ObjectId\n",
    "from bson import json_util\n",
    "import database_config as cfg\n",
    "from user import User\n",
    "\n",
    "from flask import Flask, render_template, url_for, redirect, request\n",
    "from authlib.integrations.flask_client import OAuth\n",
    "from flask_login import (\n",
    "    LoginManager,\n",
    "    current_user,\n",
    "    login_required,\n",
    "    login_user,\n",
    "    logout_user,\n",
    ")\n",
    "\n",
    "'''\n",
    "Required App, Oauth, Session Management Initializations\n",
    "'''\n",
    "\n",
    "app = Flask(__name__)\n",
    "\n",
    "oauth = OAuth(app)\n",
    "\n",
    "login_manager = LoginManager()\n",
    "login_manager.init_app(app)\n",
    "login_manager.needs_refresh_message = (u\"Session timedout, please re-login\")\n",
    "login_manager.needs_refresh_message_category = \"info\"\n",
    "\n",
    "\n",
    "'''\n",
    "Read credentials from the configuration file\n",
    "'''\n",
    "app.config['SECRET_KEY'] = cfg.google_client_credentials['secret_key']\n",
    "app.config['GOOGLE_CLIENT_ID'] = cfg.google_client_credentials['client_id']\n",
    "app.config['GOOGLE_CLIENT_SECRET'] = cfg.google_client_credentials['client_secret']\n",
    "\n",
    "\n",
    "'''\n",
    "Initialize google oauth registration details\n",
    "'''\n",
    "google = oauth.register(\n",
    "    name = 'google',\n",
    "    client_id = app.config[\"GOOGLE_CLIENT_ID\"],\n",
    "    client_secret = app.config[\"GOOGLE_CLIENT_SECRET\"],\n",
    "    access_token_url = 'https://accounts.google.com/o/oauth2/token',\n",
    "    access_token_params = None,\n",
    "    authorize_url = 'https://accounts.google.com/o/oauth2/auth',\n",
    "    authorize_params = None,\n",
    "    api_base_url = 'https://www.googleapis.com/oauth2/v1/',\n",
    "    userinfo_endpoint = 'https://openidconnect.googleapis.com/v1/userinfo',  # This is only needed if using openId to fetch user info\n",
    "    client_kwargs = {'scope': 'openid email profile'},\n",
    ")\n",
    "\n",
    "\n",
    "\n",
    "@login_manager.user_loader\n",
    "def loadUser(user_id):\n",
    "    '''\n",
    "    Load current user on the basis of the Unique ID\n",
    "    '''\n",
    "    return User.get(user_id)\n",
    "\n",
    "\n",
    "@app.route(\"/logout\")\n",
    "@login_required\n",
    "def logout():\n",
    "    '''\n",
    "    If the user clicks on the logout link\n",
    "    '''\n",
    "    logout_user()\n",
    "    return redirect(url_for(\"index\"))\n",
    "\n",
    "\n",
    "@app.before_request\n",
    "def beforeRequest():\n",
    "    '''\n",
    "    Setting logout time\n",
    "    '''\n",
    "    session.permanent = True\n",
    "    app.permanent_session_lifetime = timedelta(minutes=5)\n",
    "    \n",
    "    \n",
    "@app.route(\"/\")\n",
    "def index():\n",
    "    '''\n",
    "    Link to the homepage. This is what the UI will be calling.\n",
    "    '''\n",
    "    \n",
    "    if current_user.is_authenticated:\n",
    "        \n",
    "        return (\n",
    "            \"<p>Hello, {}! You're logged in! Email: {}</p>\"\n",
    "            '<a class=\"button\" href=\"/logout\">Logout</a>'.format(\n",
    "                current_user.name, current_user.email\n",
    "            )\n",
    "        )\n",
    "    else:\n",
    "        return '<a class=\"button\" href=\"/login\">Google Login</a>'\n",
    "    \n",
    "###Get parameters and make things work\n",
    "@app.route(\"/get_cab_price\"):\n",
    "def run_main():\n",
    "    source = request.args.get('source')\n",
    "    destination = request.args.get('destination')\n",
    "    type_of_car = request.args.get('cab_type')\n",
    "    \n",
    "    # Call google maps API - Get code from Shubha\n",
    "    \n",
    "    \n",
    "    # Call uber and lyft API\n",
    "    \n",
    "    \n",
    "    # Lyft not available\n",
    "    \n",
    "    # Call weather API\n",
    "    \n",
    "    \n",
    "    \n",
    "@app.route('/login')\n",
    "def googleLogin():\n",
    "    '''\n",
    "    Google login route\n",
    "    '''\n",
    "    \n",
    "    google = oauth.create_client('google')\n",
    "    redirected_url = url_for('google_authorize', _external=True)\n",
    "    return google.authorize_redirect(redirected_url)\n",
    "\n",
    "\n",
    "@app.route('/login/google/authorize')\n",
    "def googleAuthorize():\n",
    "    '''\n",
    "    Google authorization route\n",
    "    '''\n",
    "    \n",
    "    google = oauth.create_client('google')\n",
    "    token = google.authorize_access_token()\n",
    "    user_info = google.get('userinfo').json()\n",
    "    print (user_info['name'], user_info['email'])\n",
    "    \n",
    "    if user_info.get(\"verified_email\"):\n",
    "        unique_id = user_info[\"id\"]\n",
    "        user_email = user_info[\"email\"]\n",
    "        user_name = user_info[\"name\"]\n",
    "    else:\n",
    "        return \"User email not available or not verified by Google.\", 400\n",
    "    \n",
    "    \n",
    "    '''\n",
    "    Check for user's existence in the database, insert one if not already in the database\n",
    "    '''\n",
    "    user = User.get(unique_id)\n",
    "    \n",
    "    if user is not None:\n",
    "        login_user(user)\n",
    "    else:\n",
    "#         user=User(unique_id, user_name, user_email, ['nanavati', 'ruby'])\n",
    "#         user_created = user.create(unique_id, user_name, user_email, ['nanavati', 'ruby'])\n",
    "#         if user_created == False:\n",
    "#             return \"User creation in the database failed\"\n",
    "\n",
    "    print (\"Google Login Successful\")\n",
    "    # Send user to the required page\n",
    "    return redirect(url_for(\"index\"))\n",
    "\n",
    "\n",
    "def createDatabaseConnection():\n",
    "    '''\n",
    "    Create MongoClient Connection and return the database\n",
    "    '''\n",
    "    \n",
    "    mongo_client = pymongo.MongoClient(cfg.mongo_credentials['hostIP'])\n",
    "    argus_database = mongo_client[cfg.mongo_credentials['databaseName']]\n",
    "    \n",
    "    return argus_database\n",
    "\n",
    "\n",
    "@app.route(\"/getDatasetDetails/<dataset_name>\")\n",
    "def fetchDatasetDetails(dataset_name):\n",
    "    '''\n",
    "    Create Database Connection and query the collection with dsapp responses, return as a list and the total image count\n",
    "    '''\n",
    "    \n",
    "    argus_database = createDatabaseConnection()\n",
    "    \n",
    "    collection_of_dsapp_responses = argus_database[cfg.mongo_credentials['datasetDetailsCollection']]\n",
    "    list_of_responses = collection_of_dsapp_responses.find({'dataset_name':dataset_name})\n",
    "    \n",
    "    list_of_responses = list(list_of_responses)\n",
    "    total_image_count = len(list_of_responses)\n",
    "    \n",
    "    return {\"Total Images\": str(total_image_count), \"Responses_list\":json.loads(json_util.dumps(list_of_responses))}\n",
    "\n",
    "\n",
    "\n",
    "if __name__ == '__main__':\n",
    "    app.run()\n"
   ]
  },
  {
   "cell_type": "code",
   "execution_count": 2,
   "id": "c4ef8ee1",
   "metadata": {},
   "outputs": [
    {
     "name": "stdout",
     "output_type": "stream",
     "text": [
      "{'lat': 48.2082, 'lon': 16.3738, 'timezone': 'Europe/Vienna', 'timezone_offset': 3600, 'current': {'dt': 1646178933, 'sunrise': 1646199269, 'sunset': 1646239154, 'temp': -1.24, 'feels_like': -5.89, 'pressure': 1028, 'humidity': 60, 'dew_point': -7.25, 'uvi': 0, 'clouds': 0, 'visibility': 10000, 'wind_speed': 4.12, 'wind_deg': 330, 'weather': [{'id': 800, 'main': 'Clear', 'description': 'clear sky', 'icon': '01n'}]}, 'minutely': [{'dt': 1646178960, 'precipitation': 0}, {'dt': 1646179020, 'precipitation': 0}, {'dt': 1646179080, 'precipitation': 0}, {'dt': 1646179140, 'precipitation': 0}, {'dt': 1646179200, 'precipitation': 0}, {'dt': 1646179260, 'precipitation': 0}, {'dt': 1646179320, 'precipitation': 0}, {'dt': 1646179380, 'precipitation': 0}, {'dt': 1646179440, 'precipitation': 0}, {'dt': 1646179500, 'precipitation': 0}, {'dt': 1646179560, 'precipitation': 0}, {'dt': 1646179620, 'precipitation': 0}, {'dt': 1646179680, 'precipitation': 0}, {'dt': 1646179740, 'precipitation': 0}, {'dt': 1646179800, 'precipitation': 0}, {'dt': 1646179860, 'precipitation': 0}, {'dt': 1646179920, 'precipitation': 0}, {'dt': 1646179980, 'precipitation': 0}, {'dt': 1646180040, 'precipitation': 0}, {'dt': 1646180100, 'precipitation': 0}, {'dt': 1646180160, 'precipitation': 0}, {'dt': 1646180220, 'precipitation': 0}, {'dt': 1646180280, 'precipitation': 0}, {'dt': 1646180340, 'precipitation': 0}, {'dt': 1646180400, 'precipitation': 0}, {'dt': 1646180460, 'precipitation': 0}, {'dt': 1646180520, 'precipitation': 0}, {'dt': 1646180580, 'precipitation': 0}, {'dt': 1646180640, 'precipitation': 0}, {'dt': 1646180700, 'precipitation': 0}, {'dt': 1646180760, 'precipitation': 0}, {'dt': 1646180820, 'precipitation': 0}, {'dt': 1646180880, 'precipitation': 0}, {'dt': 1646180940, 'precipitation': 0}, {'dt': 1646181000, 'precipitation': 0}, {'dt': 1646181060, 'precipitation': 0}, {'dt': 1646181120, 'precipitation': 0}, {'dt': 1646181180, 'precipitation': 0}, {'dt': 1646181240, 'precipitation': 0}, {'dt': 1646181300, 'precipitation': 0}, {'dt': 1646181360, 'precipitation': 0}, {'dt': 1646181420, 'precipitation': 0}, {'dt': 1646181480, 'precipitation': 0}, {'dt': 1646181540, 'precipitation': 0}, {'dt': 1646181600, 'precipitation': 0}, {'dt': 1646181660, 'precipitation': 0}, {'dt': 1646181720, 'precipitation': 0}, {'dt': 1646181780, 'precipitation': 0}, {'dt': 1646181840, 'precipitation': 0}, {'dt': 1646181900, 'precipitation': 0}, {'dt': 1646181960, 'precipitation': 0}, {'dt': 1646182020, 'precipitation': 0}, {'dt': 1646182080, 'precipitation': 0}, {'dt': 1646182140, 'precipitation': 0}, {'dt': 1646182200, 'precipitation': 0}, {'dt': 1646182260, 'precipitation': 0}, {'dt': 1646182320, 'precipitation': 0}, {'dt': 1646182380, 'precipitation': 0}, {'dt': 1646182440, 'precipitation': 0}, {'dt': 1646182500, 'precipitation': 0}, {'dt': 1646182560, 'precipitation': 0}], 'hourly': [{'dt': 1646175600, 'temp': -0.89, 'feels_like': -4.3, 'pressure': 1028, 'humidity': 57, 'dew_point': -7.5, 'uvi': 0, 'clouds': 4, 'visibility': 10000, 'wind_speed': 2.72, 'wind_deg': 304, 'wind_gust': 6.26, 'weather': [{'id': 800, 'main': 'Clear', 'description': 'clear sky', 'icon': '01n'}], 'pop': 0}, {'dt': 1646179200, 'temp': -1.24, 'feels_like': -4.53, 'pressure': 1028, 'humidity': 60, 'dew_point': -7.25, 'uvi': 0, 'clouds': 0, 'visibility': 10000, 'wind_speed': 2.54, 'wind_deg': 304, 'wind_gust': 5.79, 'weather': [{'id': 800, 'main': 'Clear', 'description': 'clear sky', 'icon': '01n'}], 'pop': 0}, {'dt': 1646182800, 'temp': -1.03, 'feels_like': -4.16, 'pressure': 1028, 'humidity': 58, 'dew_point': -7.44, 'uvi': 0, 'clouds': 0, 'visibility': 10000, 'wind_speed': 2.42, 'wind_deg': 307, 'wind_gust': 5.72, 'weather': [{'id': 800, 'main': 'Clear', 'description': 'clear sky', 'icon': '01n'}], 'pop': 0}, {'dt': 1646186400, 'temp': -0.92, 'feels_like': -4.12, 'pressure': 1028, 'humidity': 56, 'dew_point': -7.74, 'uvi': 0, 'clouds': 0, 'visibility': 10000, 'wind_speed': 2.51, 'wind_deg': 305, 'wind_gust': 6.18, 'weather': [{'id': 800, 'main': 'Clear', 'description': 'clear sky', 'icon': '01n'}], 'pop': 0}, {'dt': 1646190000, 'temp': -0.82, 'feels_like': -3.92, 'pressure': 1027, 'humidity': 54, 'dew_point': -8.06, 'uvi': 0, 'clouds': 0, 'visibility': 10000, 'wind_speed': 2.43, 'wind_deg': 306, 'wind_gust': 6.01, 'weather': [{'id': 800, 'main': 'Clear', 'description': 'clear sky', 'icon': '01n'}], 'pop': 0}, {'dt': 1646193600, 'temp': -0.8, 'feels_like': -3.68, 'pressure': 1027, 'humidity': 52, 'dew_point': -8.47, 'uvi': 0, 'clouds': 0, 'visibility': 10000, 'wind_speed': 2.24, 'wind_deg': 305, 'wind_gust': 4.94, 'weather': [{'id': 800, 'main': 'Clear', 'description': 'clear sky', 'icon': '01n'}], 'pop': 0}, {'dt': 1646197200, 'temp': -0.85, 'feels_like': -3.81, 'pressure': 1027, 'humidity': 50, 'dew_point': -10.21, 'uvi': 0, 'clouds': 0, 'visibility': 10000, 'wind_speed': 2.3, 'wind_deg': 303, 'wind_gust': 5.05, 'weather': [{'id': 800, 'main': 'Clear', 'description': 'clear sky', 'icon': '01n'}], 'pop': 0}, {'dt': 1646200800, 'temp': -0.84, 'feels_like': -3.38, 'pressure': 1027, 'humidity': 49, 'dew_point': -10.38, 'uvi': 0, 'clouds': 0, 'visibility': 10000, 'wind_speed': 1.96, 'wind_deg': 302, 'wind_gust': 4.25, 'weather': [{'id': 800, 'main': 'Clear', 'description': 'clear sky', 'icon': '01d'}], 'pop': 0}, {'dt': 1646204400, 'temp': 0.29, 'feels_like': -2.34, 'pressure': 1027, 'humidity': 45, 'dew_point': -10.53, 'uvi': 0.37, 'clouds': 0, 'visibility': 10000, 'wind_speed': 2.19, 'wind_deg': 308, 'wind_gust': 4.94, 'weather': [{'id': 800, 'main': 'Clear', 'description': 'clear sky', 'icon': '01d'}], 'pop': 0}, {'dt': 1646208000, 'temp': 1.72, 'feels_like': -1.2, 'pressure': 1026, 'humidity': 40, 'dew_point': -10.77, 'uvi': 0.89, 'clouds': 0, 'visibility': 10000, 'wind_speed': 2.73, 'wind_deg': 321, 'wind_gust': 5.33, 'weather': [{'id': 800, 'main': 'Clear', 'description': 'clear sky', 'icon': '01d'}], 'pop': 0}, {'dt': 1646211600, 'temp': 3.08, 'feels_like': 0.17, 'pressure': 1025, 'humidity': 36, 'dew_point': -10.73, 'uvi': 1.51, 'clouds': 1, 'visibility': 10000, 'wind_speed': 3.04, 'wind_deg': 327, 'wind_gust': 5.17, 'weather': [{'id': 800, 'main': 'Clear', 'description': 'clear sky', 'icon': '01d'}], 'pop': 0}, {'dt': 1646215200, 'temp': 4.35, 'feels_like': 1.59, 'pressure': 1025, 'humidity': 33, 'dew_point': -10.82, 'uvi': 1.93, 'clouds': 0, 'visibility': 10000, 'wind_speed': 3.19, 'wind_deg': 334, 'wind_gust': 4.82, 'weather': [{'id': 800, 'main': 'Clear', 'description': 'clear sky', 'icon': '01d'}], 'pop': 0}, {'dt': 1646218800, 'temp': 5.41, 'feels_like': 2.77, 'pressure': 1024, 'humidity': 29, 'dew_point': -11.31, 'uvi': 2.09, 'clouds': 0, 'visibility': 10000, 'wind_speed': 3.33, 'wind_deg': 340, 'wind_gust': 4.8, 'weather': [{'id': 800, 'main': 'Clear', 'description': 'clear sky', 'icon': '01d'}], 'pop': 0}, {'dt': 1646222400, 'temp': 6.19, 'feels_like': 3.59, 'pressure': 1023, 'humidity': 26, 'dew_point': -11.97, 'uvi': 1.88, 'clouds': 0, 'visibility': 10000, 'wind_speed': 3.53, 'wind_deg': 346, 'wind_gust': 4.84, 'weather': [{'id': 800, 'main': 'Clear', 'description': 'clear sky', 'icon': '01d'}], 'pop': 0}, {'dt': 1646226000, 'temp': 6.61, 'feels_like': 4.11, 'pressure': 1023, 'humidity': 25, 'dew_point': -12.41, 'uvi': 1.28, 'clouds': 0, 'visibility': 10000, 'wind_speed': 3.52, 'wind_deg': 352, 'wind_gust': 4.73, 'weather': [{'id': 800, 'main': 'Clear', 'description': 'clear sky', 'icon': '01d'}], 'pop': 0}, {'dt': 1646229600, 'temp': 6.64, 'feels_like': 4.19, 'pressure': 1022, 'humidity': 24, 'dew_point': -12.45, 'uvi': 0.73, 'clouds': 0, 'visibility': 10000, 'wind_speed': 3.45, 'wind_deg': 352, 'wind_gust': 4.66, 'weather': [{'id': 800, 'main': 'Clear', 'description': 'clear sky', 'icon': '01d'}], 'pop': 0}, {'dt': 1646233200, 'temp': 6.38, 'feels_like': 4.02, 'pressure': 1022, 'humidity': 26, 'dew_point': -12.01, 'uvi': 0.29, 'clouds': 0, 'visibility': 10000, 'wind_speed': 3.21, 'wind_deg': 351, 'wind_gust': 4.72, 'weather': [{'id': 800, 'main': 'Clear', 'description': 'clear sky', 'icon': '01d'}], 'pop': 0}, {'dt': 1646236800, 'temp': 5.43, 'feels_like': 3.41, 'pressure': 1022, 'humidity': 29, 'dew_point': -11.39, 'uvi': 0, 'clouds': 0, 'visibility': 10000, 'wind_speed': 2.5, 'wind_deg': 350, 'wind_gust': 4.76, 'weather': [{'id': 800, 'main': 'Clear', 'description': 'clear sky', 'icon': '01d'}], 'pop': 0}, {'dt': 1646240400, 'temp': 4.03, 'feels_like': 2.43, 'pressure': 1022, 'humidity': 32, 'dew_point': -11.52, 'uvi': 0, 'clouds': 0, 'visibility': 10000, 'wind_speed': 1.83, 'wind_deg': 342, 'wind_gust': 3.69, 'weather': [{'id': 800, 'main': 'Clear', 'description': 'clear sky', 'icon': '01n'}], 'pop': 0}, {'dt': 1646244000, 'temp': 3.33, 'feels_like': 2.01, 'pressure': 1022, 'humidity': 34, 'dew_point': -11.29, 'uvi': 0, 'clouds': 0, 'visibility': 10000, 'wind_speed': 1.52, 'wind_deg': 327, 'wind_gust': 2.64, 'weather': [{'id': 800, 'main': 'Clear', 'description': 'clear sky', 'icon': '01n'}], 'pop': 0}, {'dt': 1646247600, 'temp': 2.72, 'feels_like': 1.36, 'pressure': 1022, 'humidity': 36, 'dew_point': -11.11, 'uvi': 0, 'clouds': 0, 'visibility': 10000, 'wind_speed': 1.49, 'wind_deg': 316, 'wind_gust': 2.3, 'weather': [{'id': 800, 'main': 'Clear', 'description': 'clear sky', 'icon': '01n'}], 'pop': 0}, {'dt': 1646251200, 'temp': 2.2, 'feels_like': 0.75, 'pressure': 1022, 'humidity': 38, 'dew_point': -10.97, 'uvi': 0, 'clouds': 0, 'visibility': 10000, 'wind_speed': 1.5, 'wind_deg': 316, 'wind_gust': 2.25, 'weather': [{'id': 800, 'main': 'Clear', 'description': 'clear sky', 'icon': '01n'}], 'pop': 0}, {'dt': 1646254800, 'temp': 1.78, 'feels_like': 0.2, 'pressure': 1022, 'humidity': 39, 'dew_point': -10.93, 'uvi': 0, 'clouds': 0, 'visibility': 10000, 'wind_speed': 1.55, 'wind_deg': 314, 'wind_gust': 2.25, 'weather': [{'id': 800, 'main': 'Clear', 'description': 'clear sky', 'icon': '01n'}], 'pop': 0}, {'dt': 1646258400, 'temp': 1.44, 'feels_like': -0.37, 'pressure': 1022, 'humidity': 41, 'dew_point': -10.76, 'uvi': 0, 'clouds': 0, 'visibility': 10000, 'wind_speed': 1.68, 'wind_deg': 313, 'wind_gust': 2.43, 'weather': [{'id': 800, 'main': 'Clear', 'description': 'clear sky', 'icon': '01n'}], 'pop': 0}, {'dt': 1646262000, 'temp': 1.02, 'feels_like': -0.98, 'pressure': 1022, 'humidity': 42, 'dew_point': -10.61, 'uvi': 0, 'clouds': 0, 'visibility': 10000, 'wind_speed': 1.77, 'wind_deg': 309, 'wind_gust': 2.87, 'weather': [{'id': 800, 'main': 'Clear', 'description': 'clear sky', 'icon': '01n'}], 'pop': 0}, {'dt': 1646265600, 'temp': 0.64, 'feels_like': -1.52, 'pressure': 1021, 'humidity': 45, 'dew_point': -10.32, 'uvi': 0, 'clouds': 0, 'visibility': 10000, 'wind_speed': 1.85, 'wind_deg': 302, 'wind_gust': 3.1, 'weather': [{'id': 800, 'main': 'Clear', 'description': 'clear sky', 'icon': '01n'}], 'pop': 0}, {'dt': 1646269200, 'temp': 0.3, 'feels_like': -2.03, 'pressure': 1021, 'humidity': 47, 'dew_point': -10.05, 'uvi': 0, 'clouds': 5, 'visibility': 10000, 'wind_speed': 1.94, 'wind_deg': 305, 'wind_gust': 3.65, 'weather': [{'id': 800, 'main': 'Clear', 'description': 'clear sky', 'icon': '01n'}], 'pop': 0}, {'dt': 1646272800, 'temp': 0.03, 'feels_like': -2.36, 'pressure': 1021, 'humidity': 48, 'dew_point': -9.87, 'uvi': 0, 'clouds': 6, 'visibility': 10000, 'wind_speed': 1.95, 'wind_deg': 305, 'wind_gust': 4.06, 'weather': [{'id': 800, 'main': 'Clear', 'description': 'clear sky', 'icon': '01n'}], 'pop': 0}, {'dt': 1646276400, 'temp': -0.25, 'feels_like': -2.66, 'pressure': 1020, 'humidity': 50, 'dew_point': -9.71, 'uvi': 0, 'clouds': 7, 'visibility': 10000, 'wind_speed': 1.93, 'wind_deg': 299, 'wind_gust': 4.2, 'weather': [{'id': 800, 'main': 'Clear', 'description': 'clear sky', 'icon': '01n'}], 'pop': 0}, {'dt': 1646280000, 'temp': -0.41, 'feels_like': -2.78, 'pressure': 1020, 'humidity': 51, 'dew_point': -9.58, 'uvi': 0, 'clouds': 5, 'visibility': 10000, 'wind_speed': 1.88, 'wind_deg': 305, 'wind_gust': 4.09, 'weather': [{'id': 800, 'main': 'Clear', 'description': 'clear sky', 'icon': '01n'}], 'pop': 0}, {'dt': 1646283600, 'temp': -0.58, 'feels_like': -2.92, 'pressure': 1019, 'humidity': 52, 'dew_point': -9.52, 'uvi': 0, 'clouds': 4, 'visibility': 10000, 'wind_speed': 1.84, 'wind_deg': 302, 'wind_gust': 4.1, 'weather': [{'id': 800, 'main': 'Clear', 'description': 'clear sky', 'icon': '01n'}], 'pop': 0}, {'dt': 1646287200, 'temp': -0.51, 'feels_like': -2.67, 'pressure': 1019, 'humidity': 51, 'dew_point': -9.49, 'uvi': 0.08, 'clouds': 4, 'visibility': 10000, 'wind_speed': 1.72, 'wind_deg': 306, 'wind_gust': 3.73, 'weather': [{'id': 800, 'main': 'Clear', 'description': 'clear sky', 'icon': '01d'}], 'pop': 0}, {'dt': 1646290800, 'temp': 0.73, 'feels_like': -1.44, 'pressure': 1019, 'humidity': 47, 'dew_point': -9.57, 'uvi': 0.35, 'clouds': 0, 'visibility': 10000, 'wind_speed': 1.87, 'wind_deg': 311, 'wind_gust': 4.31, 'weather': [{'id': 800, 'main': 'Clear', 'description': 'clear sky', 'icon': '01d'}], 'pop': 0}, {'dt': 1646294400, 'temp': 2.33, 'feels_like': 0.04, 'pressure': 1019, 'humidity': 41, 'dew_point': -9.87, 'uvi': 0.82, 'clouds': 12, 'visibility': 10000, 'wind_speed': 2.2, 'wind_deg': 316, 'wind_gust': 4.37, 'weather': [{'id': 801, 'main': 'Clouds', 'description': 'few clouds', 'icon': '02d'}], 'pop': 0}, {'dt': 1646298000, 'temp': 3.74, 'feels_like': 1.48, 'pressure': 1018, 'humidity': 36, 'dew_point': -10.21, 'uvi': 1.38, 'clouds': 38, 'visibility': 10000, 'wind_speed': 2.42, 'wind_deg': 328, 'wind_gust': 4.27, 'weather': [{'id': 802, 'main': 'Clouds', 'description': 'scattered clouds', 'icon': '03d'}], 'pop': 0}, {'dt': 1646301600, 'temp': 5, 'feels_like': 2.62, 'pressure': 1018, 'humidity': 32, 'dew_point': -10.57, 'uvi': 1.81, 'clouds': 52, 'visibility': 10000, 'wind_speed': 2.85, 'wind_deg': 337, 'wind_gust': 4.37, 'weather': [{'id': 803, 'main': 'Clouds', 'description': 'broken clouds', 'icon': '04d'}], 'pop': 0}, {'dt': 1646305200, 'temp': 6.04, 'feels_like': 4.14, 'pressure': 1017, 'humidity': 29, 'dew_point': -10.67, 'uvi': 1.96, 'clouds': 48, 'visibility': 10000, 'wind_speed': 2.49, 'wind_deg': 334, 'wind_gust': 3.67, 'weather': [{'id': 802, 'main': 'Clouds', 'description': 'scattered clouds', 'icon': '03d'}], 'pop': 0}, {'dt': 1646308800, 'temp': 6.76, 'feels_like': 4.94, 'pressure': 1016, 'humidity': 28, 'dew_point': -10.64, 'uvi': 1.76, 'clouds': 56, 'visibility': 10000, 'wind_speed': 2.56, 'wind_deg': 340, 'wind_gust': 3.65, 'weather': [{'id': 803, 'main': 'Clouds', 'description': 'broken clouds', 'icon': '04d'}], 'pop': 0}, {'dt': 1646312400, 'temp': 7.08, 'feels_like': 5.23, 'pressure': 1015, 'humidity': 27, 'dew_point': -10.65, 'uvi': 1.12, 'clouds': 100, 'visibility': 10000, 'wind_speed': 2.68, 'wind_deg': 351, 'wind_gust': 3.72, 'weather': [{'id': 804, 'main': 'Clouds', 'description': 'overcast clouds', 'icon': '04d'}], 'pop': 0}, {'dt': 1646316000, 'temp': 7.02, 'feels_like': 5.06, 'pressure': 1015, 'humidity': 28, 'dew_point': -10.6, 'uvi': 0.64, 'clouds': 100, 'visibility': 10000, 'wind_speed': 2.82, 'wind_deg': 360, 'wind_gust': 3.82, 'weather': [{'id': 804, 'main': 'Clouds', 'description': 'overcast clouds', 'icon': '04d'}], 'pop': 0}, {'dt': 1646319600, 'temp': 6.62, 'feels_like': 4.52, 'pressure': 1015, 'humidity': 30, 'dew_point': -9.95, 'uvi': 0.26, 'clouds': 100, 'visibility': 10000, 'wind_speed': 2.9, 'wind_deg': 8, 'wind_gust': 4.01, 'weather': [{'id': 804, 'main': 'Clouds', 'description': 'overcast clouds', 'icon': '04d'}], 'pop': 0}, {'dt': 1646323200, 'temp': 5.7, 'feels_like': 3.57, 'pressure': 1015, 'humidity': 34, 'dew_point': -9.19, 'uvi': 0, 'clouds': 100, 'visibility': 10000, 'wind_speed': 2.7, 'wind_deg': 22, 'wind_gust': 4.36, 'weather': [{'id': 804, 'main': 'Clouds', 'description': 'overcast clouds', 'icon': '04d'}], 'pop': 0}, {'dt': 1646326800, 'temp': 4.93, 'feels_like': 3.37, 'pressure': 1015, 'humidity': 36, 'dew_point': -9.25, 'uvi': 0, 'clouds': 100, 'visibility': 10000, 'wind_speed': 1.92, 'wind_deg': 31, 'wind_gust': 3.91, 'weather': [{'id': 804, 'main': 'Clouds', 'description': 'overcast clouds', 'icon': '04n'}], 'pop': 0}, {'dt': 1646330400, 'temp': 4.46, 'feels_like': 3.56, 'pressure': 1016, 'humidity': 36, 'dew_point': -9.38, 'uvi': 0, 'clouds': 98, 'visibility': 10000, 'wind_speed': 1.34, 'wind_deg': 31, 'wind_gust': 2.97, 'weather': [{'id': 804, 'main': 'Clouds', 'description': 'overcast clouds', 'icon': '04n'}], 'pop': 0}, {'dt': 1646334000, 'temp': 3.46, 'feels_like': 3.46, 'pressure': 1016, 'humidity': 39, 'dew_point': -9.52, 'uvi': 0, 'clouds': 63, 'visibility': 10000, 'wind_speed': 1.32, 'wind_deg': 18, 'wind_gust': 2.44, 'weather': [{'id': 803, 'main': 'Clouds', 'description': 'broken clouds', 'icon': '04n'}], 'pop': 0}, {'dt': 1646337600, 'temp': 2.58, 'feels_like': 0.93, 'pressure': 1017, 'humidity': 42, 'dew_point': -9.39, 'uvi': 0, 'clouds': 39, 'visibility': 10000, 'wind_speed': 1.69, 'wind_deg': 4, 'wind_gust': 3.28, 'weather': [{'id': 802, 'main': 'Clouds', 'description': 'scattered clouds', 'icon': '03n'}], 'pop': 0}, {'dt': 1646341200, 'temp': 1.95, 'feels_like': -0.04, 'pressure': 1017, 'humidity': 44, 'dew_point': -9.33, 'uvi': 0, 'clouds': 26, 'visibility': 10000, 'wind_speed': 1.88, 'wind_deg': 354, 'wind_gust': 4.14, 'weather': [{'id': 802, 'main': 'Clouds', 'description': 'scattered clouds', 'icon': '03n'}], 'pop': 0}, {'dt': 1646344800, 'temp': 1.47, 'feels_like': -0.55, 'pressure': 1017, 'humidity': 45, 'dew_point': -9.34, 'uvi': 0, 'clouds': 20, 'visibility': 10000, 'wind_speed': 1.84, 'wind_deg': 341, 'wind_gust': 4.11, 'weather': [{'id': 801, 'main': 'Clouds', 'description': 'few clouds', 'icon': '02n'}], 'pop': 0}], 'daily': [{'dt': 1646218800, 'sunrise': 1646199269, 'sunset': 1646239154, 'moonrise': 1646200620, 'moonset': 1646237820, 'moon_phase': 0, 'temp': {'day': 5.41, 'min': -1.24, 'max': 6.64, 'night': 1.44, 'eve': 4.03, 'morn': -0.85}, 'feels_like': {'day': 2.77, 'night': -0.37, 'eve': 2.43, 'morn': -3.81}, 'pressure': 1024, 'humidity': 29, 'dew_point': -11.31, 'wind_speed': 3.53, 'wind_deg': 346, 'wind_gust': 6.26, 'weather': [{'id': 800, 'main': 'Clear', 'description': 'clear sky', 'icon': '01d'}], 'clouds': 0, 'pop': 0, 'uvi': 2.09}, {'dt': 1646305200, 'sunrise': 1646285552, 'sunset': 1646325647, 'moonrise': 1646288280, 'moonset': 1646328840, 'moon_phase': 0.03, 'temp': {'day': 6.04, 'min': -0.58, 'max': 7.08, 'night': 1.47, 'eve': 4.93, 'morn': -0.58}, 'feels_like': {'day': 4.14, 'night': -0.55, 'eve': 3.37, 'morn': -2.92}, 'pressure': 1017, 'humidity': 29, 'dew_point': -10.67, 'wind_speed': 2.9, 'wind_deg': 8, 'wind_gust': 4.37, 'weather': [{'id': 802, 'main': 'Clouds', 'description': 'scattered clouds', 'icon': '03d'}], 'clouds': 48, 'pop': 0, 'uvi': 1.96}, {'dt': 1646391600, 'sunrise': 1646371834, 'sunset': 1646412138, 'moonrise': 1646375760, 'moonset': 1646419740, 'moon_phase': 0.06, 'temp': {'day': 5.02, 'min': -0.58, 'max': 6.04, 'night': 1.52, 'eve': 4.14, 'morn': -0.58}, 'feels_like': {'day': 2.49, 'night': -0.87, 'eve': 2.49, 'morn': -3.21}, 'pressure': 1019, 'humidity': 40, 'dew_point': -7.53, 'wind_speed': 3.1, 'wind_deg': 349, 'wind_gust': 5.29, 'weather': [{'id': 800, 'main': 'Clear', 'description': 'clear sky', 'icon': '01d'}], 'clouds': 10, 'pop': 0, 'uvi': 2.15}, {'dt': 1646478000, 'sunrise': 1646458115, 'sunset': 1646498630, 'moonrise': 1646463180, 'moonset': 1646510460, 'moon_phase': 0.09, 'temp': {'day': 6.09, 'min': -0.97, 'max': 6.72, 'night': 1.77, 'eve': 4.03, 'morn': -0.97}, 'feels_like': {'day': 4.4, 'night': -0.06, 'eve': 4.03, 'morn': -0.97}, 'pressure': 1021, 'humidity': 44, 'dew_point': -5.32, 'wind_speed': 2.7, 'wind_deg': 54, 'wind_gust': 3.97, 'weather': [{'id': 800, 'main': 'Clear', 'description': 'clear sky', 'icon': '01d'}], 'clouds': 10, 'pop': 0, 'uvi': 1.98}, {'dt': 1646564400, 'sunrise': 1646544395, 'sunset': 1646585121, 'moonrise': 1646550600, 'moonset': 1646601120, 'moon_phase': 0.13, 'temp': {'day': 7.08, 'min': 0.09, 'max': 8.24, 'night': 3.96, 'eve': 5.49, 'morn': 0.09}, 'feels_like': {'day': 5.13, 'night': 2.89, 'eve': 4.31, 'morn': 0.09}, 'pressure': 1020, 'humidity': 41, 'dew_point': -5.4, 'wind_speed': 3.22, 'wind_deg': 112, 'wind_gust': 4.53, 'weather': [{'id': 803, 'main': 'Clouds', 'description': 'broken clouds', 'icon': '04d'}], 'clouds': 54, 'pop': 0, 'uvi': 1.54}, {'dt': 1646650800, 'sunrise': 1646630675, 'sunset': 1646671612, 'moonrise': 1646638140, 'moonset': 1646691720, 'moon_phase': 0.16, 'temp': {'day': 6.71, 'min': 0.63, 'max': 7.12, 'night': 1.95, 'eve': 3.46, 'morn': 0.63}, 'feels_like': {'day': 3.52, 'night': -0.89, 'eve': 0.4, 'morn': -2.07}, 'pressure': 1016, 'humidity': 27, 'dew_point': -11.22, 'wind_speed': 4.9, 'wind_deg': 352, 'wind_gust': 7.72, 'weather': [{'id': 802, 'main': 'Clouds', 'description': 'scattered clouds', 'icon': '03d'}], 'clouds': 27, 'pop': 0.08, 'uvi': 2}, {'dt': 1646737200, 'sunrise': 1646716955, 'sunset': 1646758102, 'moonrise': 1646725800, 'moonset': 0, 'moon_phase': 0.19, 'temp': {'day': 4.44, 'min': -0.3, 'max': 4.54, 'night': 0.43, 'eve': 1.64, 'morn': -0.3}, 'feels_like': {'day': 1.26, 'night': -2.44, 'eve': -1.96, 'morn': -3.52}, 'pressure': 1017, 'humidity': 41, 'dew_point': -7.99, 'wind_speed': 4.43, 'wind_deg': 25, 'wind_gust': 7.71, 'weather': [{'id': 804, 'main': 'Clouds', 'description': 'overcast clouds', 'icon': '04d'}], 'clouds': 93, 'pop': 0.14, 'uvi': 2}, {'dt': 1646823600, 'sunrise': 1646803234, 'sunset': 1646844592, 'moonrise': 1646813760, 'moonset': 1646782260, 'moon_phase': 0.22, 'temp': {'day': 4.41, 'min': -0.01, 'max': 4.76, 'night': 1.78, 'eve': 1.75, 'morn': -0.01}, 'feels_like': {'day': 0.75, 'night': -1.85, 'eve': -1.65, 'morn': -2.9}, 'pressure': 1014, 'humidity': 46, 'dew_point': -6.43, 'wind_speed': 4.89, 'wind_deg': 103, 'wind_gust': 11.21, 'weather': [{'id': 600, 'main': 'Snow', 'description': 'light snow', 'icon': '13d'}], 'clouds': 100, 'pop': 0.98, 'snow': 2.41, 'uvi': 2}]}\n"
     ]
    }
   ],
   "source": [
    "import requests\n",
    "import json\n",
    "api_key = \"58004db0930cf9524c8308063af9b2ff\"\n",
    "lat = \"48.208176\"\n",
    "lon = \"16.373819\"\n",
    "url = \"https://api.openweathermap.org/data/2.5/onecall?lat=%s&lon=%s&appid=%s&units=metric\" % (lat, lon, api_key)\n",
    "response = requests.get(url)\n",
    "data = json.loads(response.text)\n",
    "print(data)"
   ]
  },
  {
   "cell_type": "code",
   "execution_count": 3,
   "id": "597f0c90",
   "metadata": {},
   "outputs": [
    {
     "data": {
      "text/plain": [
       "{'dt': 1646178933,\n",
       " 'sunrise': 1646199269,\n",
       " 'sunset': 1646239154,\n",
       " 'temp': -1.24,\n",
       " 'feels_like': -5.89,\n",
       " 'pressure': 1028,\n",
       " 'humidity': 60,\n",
       " 'dew_point': -7.25,\n",
       " 'uvi': 0,\n",
       " 'clouds': 0,\n",
       " 'visibility': 10000,\n",
       " 'wind_speed': 4.12,\n",
       " 'wind_deg': 330,\n",
       " 'weather': [{'id': 800,\n",
       "   'main': 'Clear',\n",
       "   'description': 'clear sky',\n",
       "   'icon': '01n'}]}"
      ]
     },
     "execution_count": 3,
     "metadata": {},
     "output_type": "execute_result"
    }
   ],
   "source": [
    "data['current']"
   ]
  },
  {
   "cell_type": "code",
   "execution_count": 15,
   "id": "3f1ad305",
   "metadata": {},
   "outputs": [
    {
     "name": "stdout",
     "output_type": "stream",
     "text": [
      "Collecting uber-rides\n",
      "  Downloading uber_rides-0.6.0-py2.py3-none-any.whl (57 kB)\n",
      "\u001b[K     |████████████████████████████████| 57 kB 1.0 MB/s eta 0:00:01\n",
      "\u001b[?25hRequirement already satisfied: pyyaml in /Users/stlp/opt/anaconda3/lib/python3.9/site-packages (from uber-rides) (6.0)\n",
      "Requirement already satisfied: requests in /Users/stlp/opt/anaconda3/lib/python3.9/site-packages (from uber-rides) (2.26.0)\n",
      "Requirement already satisfied: certifi>=2017.4.17 in /Users/stlp/opt/anaconda3/lib/python3.9/site-packages (from requests->uber-rides) (2021.10.8)\n",
      "Requirement already satisfied: charset-normalizer~=2.0.0 in /Users/stlp/opt/anaconda3/lib/python3.9/site-packages (from requests->uber-rides) (2.0.4)\n",
      "Requirement already satisfied: urllib3<1.27,>=1.21.1 in /Users/stlp/opt/anaconda3/lib/python3.9/site-packages (from requests->uber-rides) (1.26.7)\n",
      "Requirement already satisfied: idna<4,>=2.5 in /Users/stlp/opt/anaconda3/lib/python3.9/site-packages (from requests->uber-rides) (3.2)\n",
      "Installing collected packages: uber-rides\n",
      "Successfully installed uber-rides-0.6.0\n"
     ]
    }
   ],
   "source": [
    "! pip install uber-rides"
   ]
  },
  {
   "cell_type": "code",
   "execution_count": 14,
   "id": "927d530a",
   "metadata": {},
   "outputs": [],
   "source": [
    "class Jessie:\n",
    "    def __init__(self):\n",
    "        self.hobby='Statistics'\n",
    "    \n",
    "    def change_hobby(self, hobby='Probability'):\n",
    "        self.hobby=hobby\n",
    "    "
   ]
  },
  {
   "cell_type": "code",
   "execution_count": 15,
   "id": "ccc61a6a",
   "metadata": {},
   "outputs": [],
   "source": [
    "j=Jessie()"
   ]
  },
  {
   "cell_type": "code",
   "execution_count": 16,
   "id": "7fe96e74",
   "metadata": {},
   "outputs": [
    {
     "data": {
      "text/plain": [
       "'Statistics'"
      ]
     },
     "execution_count": 16,
     "metadata": {},
     "output_type": "execute_result"
    }
   ],
   "source": [
    "j.hobby"
   ]
  },
  {
   "cell_type": "code",
   "execution_count": 19,
   "id": "981d3639",
   "metadata": {},
   "outputs": [],
   "source": [
    "j.change_hobby('Viz')"
   ]
  },
  {
   "cell_type": "code",
   "execution_count": 20,
   "id": "af86cc34",
   "metadata": {},
   "outputs": [
    {
     "data": {
      "text/plain": [
       "'Viz'"
      ]
     },
     "execution_count": 20,
     "metadata": {},
     "output_type": "execute_result"
    }
   ],
   "source": [
    "j.hobby"
   ]
  },
  {
   "cell_type": "code",
   "execution_count": 53,
   "id": "0654597c",
   "metadata": {},
   "outputs": [],
   "source": [
    "from flask_login import UserMixin\n",
    "import pandas as pd\n",
    "\n",
    "\n",
    "class User(UserMixin):\n",
    "    '''\n",
    "    The user class of type Usermixin from flask_login handles the user information.\n",
    "    param: Oauth unique ID, name, email\n",
    "    methods: get(user_id): Checks if the user exists in the database\n",
    "             create(user_id, name, email): Creates a new user in the database\n",
    "    '''\n",
    "    \n",
    "    def __init__(self, id_, name, email):\n",
    "        self.id = id_\n",
    "        self.name = name\n",
    "        self.email = email\n",
    "\n",
    "    @staticmethod\n",
    "    def get(user_id):\n",
    "        '''\n",
    "        This module checks if the user exists in the database.\n",
    "        param: user_id\n",
    "        return : Object of the User class with required details\n",
    "        '''\n",
    "        \n",
    "        user_information=pd.read_csv('data/users.csv')\n",
    "        specific_user_details=user_information.loc[user_information['user_id']==user_id]\n",
    "\n",
    "        return User(specific_user_details['user_id'][0], specific_user_details['name'][0], specific_user_details['email'][0])\n",
    "\n",
    "    @staticmethod\n",
    "    def create(id_, name, email):\n",
    "        '''\n",
    "        Creates a user if not already present in the database. \n",
    "        param: google oauth user_id, name, email\n",
    "        return: True if successfully added to the database\n",
    "        return: False if any error while adding to the database\n",
    "        '''        \n",
    "        try:\n",
    "            user_information=pd.read_csv('data/users.csv')\n",
    "            current_user = pd.DataFrame({'user_id':[id_], 'name':[name], 'email':[email]})\n",
    "\n",
    "            user_information = pd.concat([user_information, current_user])\n",
    "            user_information.to_csv('data/users.csv', index=None)\n",
    "            return True\n",
    "        except: \n",
    "            print (\"User creation failed\")\n",
    "            return False\n",
    "        \n"
   ]
  },
  {
   "cell_type": "code",
   "execution_count": 54,
   "id": "b8d76754",
   "metadata": {},
   "outputs": [
    {
     "name": "stdout",
     "output_type": "stream",
     "text": [
      "116296017614486242589\n"
     ]
    },
    {
     "data": {
      "text/plain": [
       "<__main__.User at 0x7fc760748fd0>"
      ]
     },
     "execution_count": 54,
     "metadata": {},
     "output_type": "execute_result"
    }
   ],
   "source": [
    "User.get('116296017614486242589')"
   ]
  },
  {
   "cell_type": "code",
   "execution_count": 38,
   "id": "ebe5e7c9",
   "metadata": {},
   "outputs": [],
   "source": [
    "df=pd.read_csv('data/users.csv')"
   ]
  },
  {
   "cell_type": "code",
   "execution_count": 39,
   "id": "a2cbaeb6",
   "metadata": {},
   "outputs": [
    {
     "data": {
      "text/html": [
       "<div>\n",
       "<style scoped>\n",
       "    .dataframe tbody tr th:only-of-type {\n",
       "        vertical-align: middle;\n",
       "    }\n",
       "\n",
       "    .dataframe tbody tr th {\n",
       "        vertical-align: top;\n",
       "    }\n",
       "\n",
       "    .dataframe thead th {\n",
       "        text-align: right;\n",
       "    }\n",
       "</style>\n",
       "<table border=\"1\" class=\"dataframe\">\n",
       "  <thead>\n",
       "    <tr style=\"text-align: right;\">\n",
       "      <th></th>\n",
       "      <th>user_id</th>\n",
       "      <th>name</th>\n",
       "      <th>email</th>\n",
       "    </tr>\n",
       "  </thead>\n",
       "  <tbody>\n",
       "  </tbody>\n",
       "</table>\n",
       "</div>"
      ],
      "text/plain": [
       "Empty DataFrame\n",
       "Columns: [user_id, name, email]\n",
       "Index: []"
      ]
     },
     "execution_count": 39,
     "metadata": {},
     "output_type": "execute_result"
    }
   ],
   "source": [
    "df.head()"
   ]
  },
  {
   "cell_type": "code",
   "execution_count": 42,
   "id": "f0b2170b",
   "metadata": {},
   "outputs": [],
   "source": [
    "id_='116296017614486242589'\n",
    "name='Rohit Lokwani'\n",
    "email='rlokwani@uw.edu'"
   ]
  },
  {
   "cell_type": "code",
   "execution_count": 47,
   "id": "cd086d05",
   "metadata": {},
   "outputs": [],
   "source": []
  },
  {
   "cell_type": "code",
   "execution_count": 49,
   "id": "6c30b37c",
   "metadata": {},
   "outputs": [],
   "source": []
  },
  {
   "cell_type": "code",
   "execution_count": null,
   "id": "b6652733",
   "metadata": {},
   "outputs": [],
   "source": []
  }
 ],
 "metadata": {
  "kernelspec": {
   "display_name": "Python 3 (ipykernel)",
   "language": "python",
   "name": "python3"
  },
  "language_info": {
   "codemirror_mode": {
    "name": "ipython",
    "version": 3
   },
   "file_extension": ".py",
   "mimetype": "text/x-python",
   "name": "python",
   "nbconvert_exporter": "python",
   "pygments_lexer": "ipython3",
   "version": "3.9.7"
  }
 },
 "nbformat": 4,
 "nbformat_minor": 5
}
