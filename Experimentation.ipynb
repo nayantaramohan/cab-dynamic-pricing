{
 "cells": [
  {
   "cell_type": "code",
   "execution_count": 1,
   "id": "627562c5",
   "metadata": {},
   "outputs": [],
   "source": [
    "import flask"
   ]
  },
  {
   "cell_type": "code",
   "execution_count": 1,
   "id": "73b72cc5",
   "metadata": {},
   "outputs": [
    {
     "name": "stdout",
     "output_type": "stream",
     "text": [
      "Collecting authlib\n",
      "  Downloading Authlib-0.15.5-py2.py3-none-any.whl (203 kB)\n",
      "\u001b[K     |████████████████████████████████| 203 kB 1.4 MB/s eta 0:00:01\n",
      "\u001b[?25hRequirement already satisfied: cryptography in /Users/stlp/opt/anaconda3/lib/python3.9/site-packages (from authlib) (3.4.8)\n",
      "Requirement already satisfied: cffi>=1.12 in /Users/stlp/opt/anaconda3/lib/python3.9/site-packages (from cryptography->authlib) (1.14.6)\n",
      "Requirement already satisfied: pycparser in /Users/stlp/opt/anaconda3/lib/python3.9/site-packages (from cffi>=1.12->cryptography->authlib) (2.20)\n",
      "Installing collected packages: authlib\n",
      "Successfully installed authlib-0.15.5\n"
     ]
    }
   ],
   "source": [
    "379885467838-c19jsii830g3pbsdhts5m9egsp3s7h95.apps.googleusercontent.com\n",
    "\n",
    "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"
   ]
  },
  {
   "cell_type": "code",
   "execution_count": 4,
   "id": "80233ad2",
   "metadata": {},
   "outputs": [
    {
     "name": "stdout",
     "output_type": "stream",
     "text": [
      "Collecting flask_login\n",
      "  Downloading Flask_Login-0.5.0-py2.py3-none-any.whl (16 kB)\n",
      "Requirement already satisfied: Flask in /Users/stlp/opt/anaconda3/lib/python3.9/site-packages (from flask_login) (1.1.2)\n",
      "Requirement already satisfied: Werkzeug>=0.15 in /Users/stlp/opt/anaconda3/lib/python3.9/site-packages (from Flask->flask_login) (2.0.2)\n",
      "Requirement already satisfied: Jinja2>=2.10.1 in /Users/stlp/opt/anaconda3/lib/python3.9/site-packages (from Flask->flask_login) (2.11.3)\n",
      "Requirement already satisfied: itsdangerous>=0.24 in /Users/stlp/opt/anaconda3/lib/python3.9/site-packages (from Flask->flask_login) (2.0.1)\n",
      "Requirement already satisfied: click>=5.1 in /Users/stlp/opt/anaconda3/lib/python3.9/site-packages (from Flask->flask_login) (8.0.3)\n",
      "Requirement already satisfied: MarkupSafe>=0.23 in /Users/stlp/opt/anaconda3/lib/python3.9/site-packages (from Jinja2>=2.10.1->Flask->flask_login) (1.1.1)\n",
      "Installing collected packages: flask-login\n",
      "Successfully installed flask-login-0.5.0\n"
     ]
    }
   ],
   "source": [
    "! pip install flask_login"
   ]
  },
  {
   "cell_type": "markdown",
   "id": "f0a537ea",
   "metadata": {},
   "source": [
    "# OAuth code"
   ]
  },
  {
   "cell_type": "code",
   "execution_count": null,
   "id": "de01d715",
   "metadata": {},
   "outputs": [],
   "source": [
    "from flask import Flask\n",
    "import pymongo, json\n",
    "from bson import ObjectId\n",
    "from bson import json_util\n",
    "import database_config as cfg\n",
    "from user import User\n",
    "\n",
    "from flask import Flask, render_template, url_for, redirect, request\n",
    "from authlib.integrations.flask_client import OAuth\n",
    "from flask_login import (\n",
    "    LoginManager,\n",
    "    current_user,\n",
    "    login_required,\n",
    "    login_user,\n",
    "    logout_user,\n",
    ")\n",
    "\n",
    "'''\n",
    "Required App, Oauth, Session Management Initializations\n",
    "'''\n",
    "\n",
    "app = Flask(__name__)\n",
    "\n",
    "oauth = OAuth(app)\n",
    "\n",
    "login_manager = LoginManager()\n",
    "login_manager.init_app(app)\n",
    "login_manager.needs_refresh_message = (u\"Session timedout, please re-login\")\n",
    "login_manager.needs_refresh_message_category = \"info\"\n",
    "\n",
    "\n",
    "'''\n",
    "Read credentials from the configuration file\n",
    "'''\n",
    "app.config['SECRET_KEY'] = cfg.google_client_credentials['secret_key']\n",
    "app.config['GOOGLE_CLIENT_ID'] = cfg.google_client_credentials['client_id']\n",
    "app.config['GOOGLE_CLIENT_SECRET'] = cfg.google_client_credentials['client_secret']\n",
    "\n",
    "\n",
    "'''\n",
    "Initialize google oauth registration details\n",
    "'''\n",
    "google = oauth.register(\n",
    "    name = 'google',\n",
    "    client_id = app.config[\"GOOGLE_CLIENT_ID\"],\n",
    "    client_secret = app.config[\"GOOGLE_CLIENT_SECRET\"],\n",
    "    access_token_url = 'https://accounts.google.com/o/oauth2/token',\n",
    "    access_token_params = None,\n",
    "    authorize_url = 'https://accounts.google.com/o/oauth2/auth',\n",
    "    authorize_params = None,\n",
    "    api_base_url = 'https://www.googleapis.com/oauth2/v1/',\n",
    "    userinfo_endpoint = 'https://openidconnect.googleapis.com/v1/userinfo',  # This is only needed if using openId to fetch user info\n",
    "    client_kwargs = {'scope': 'openid email profile'},\n",
    ")\n",
    "\n",
    "\n",
    "\n",
    "@login_manager.user_loader\n",
    "def loadUser(user_id):\n",
    "    '''\n",
    "    Load current user on the basis of the Unique ID\n",
    "    '''\n",
    "    return User.get(user_id)\n",
    "\n",
    "\n",
    "@app.route(\"/logout\")\n",
    "@login_required\n",
    "def logout():\n",
    "    '''\n",
    "    If the user clicks on the logout link\n",
    "    '''\n",
    "    logout_user()\n",
    "    return redirect(url_for(\"index\"))\n",
    "\n",
    "\n",
    "@app.before_request\n",
    "def beforeRequest():\n",
    "    '''\n",
    "    Setting logout time\n",
    "    '''\n",
    "    session.permanent = True\n",
    "    app.permanent_session_lifetime = timedelta(minutes=5)\n",
    "    \n",
    "    \n",
    "@app.route(\"/\")\n",
    "def index():\n",
    "    '''\n",
    "    Link to the homepage. This is what the UI will be calling.\n",
    "    '''\n",
    "    \n",
    "    if current_user.is_authenticated:\n",
    "        \n",
    "        return (\n",
    "            \"<p>Hello, {}! You're logged in! Email: {}</p>\"\n",
    "            '<a class=\"button\" href=\"/logout\">Logout</a>'.format(\n",
    "                current_user.name, current_user.email\n",
    "            )\n",
    "        )\n",
    "    else:\n",
    "        return '<a class=\"button\" href=\"/login\">Google Login</a>'\n",
    "    \n",
    "###Get parameters and make things work\n",
    "@app.route(\"/get_cab_price\"):\n",
    "def run_main():\n",
    "    source = request.args.get('source')\n",
    "    destination = request.args.get('destination')\n",
    "    type_of_car = request.args.get('cab_type')\n",
    "    \n",
    "    # Call google maps API - Get code from Shubha\n",
    "    \n",
    "    \n",
    "    # Call uber and lyft API\n",
    "    \n",
    "    \n",
    "    # Lyft not available\n",
    "    \n",
    "    # Call weather API\n",
    "    \n",
    "    \n",
    "    \n",
    "@app.route('/login')\n",
    "def googleLogin():\n",
    "    '''\n",
    "    Google login route\n",
    "    '''\n",
    "    \n",
    "    google = oauth.create_client('google')\n",
    "    redirected_url = url_for('google_authorize', _external=True)\n",
    "    return google.authorize_redirect(redirected_url)\n",
    "\n",
    "\n",
    "@app.route('/login/google/authorize')\n",
    "def googleAuthorize():\n",
    "    '''\n",
    "    Google authorization route\n",
    "    '''\n",
    "    \n",
    "    google = oauth.create_client('google')\n",
    "    token = google.authorize_access_token()\n",
    "    user_info = google.get('userinfo').json()\n",
    "    print (user_info['name'], user_info['email'])\n",
    "    \n",
    "    if user_info.get(\"verified_email\"):\n",
    "        unique_id = user_info[\"id\"]\n",
    "        user_email = user_info[\"email\"]\n",
    "        user_name = user_info[\"name\"]\n",
    "    else:\n",
    "        return \"User email not available or not verified by Google.\", 400\n",
    "    \n",
    "    \n",
    "    '''\n",
    "    Check for user's existence in the database, insert one if not already in the database\n",
    "    '''\n",
    "    user = User.get(unique_id)\n",
    "    \n",
    "    if user is not None:\n",
    "        login_user(user)\n",
    "    else:\n",
    "#         user=User(unique_id, user_name, user_email, ['nanavati', 'ruby'])\n",
    "#         user_created = user.create(unique_id, user_name, user_email, ['nanavati', 'ruby'])\n",
    "#         if user_created == False:\n",
    "#             return \"User creation in the database failed\"\n",
    "\n",
    "    print (\"Google Login Successful\")\n",
    "    # Send user to the required page\n",
    "    return redirect(url_for(\"index\"))\n",
    "\n",
    "\n",
    "def createDatabaseConnection():\n",
    "    '''\n",
    "    Create MongoClient Connection and return the database\n",
    "    '''\n",
    "    \n",
    "    mongo_client = pymongo.MongoClient(cfg.mongo_credentials['hostIP'])\n",
    "    argus_database = mongo_client[cfg.mongo_credentials['databaseName']]\n",
    "    \n",
    "    return argus_database\n",
    "\n",
    "\n",
    "@app.route(\"/getDatasetDetails/<dataset_name>\")\n",
    "def fetchDatasetDetails(dataset_name):\n",
    "    '''\n",
    "    Create Database Connection and query the collection with dsapp responses, return as a list and the total image count\n",
    "    '''\n",
    "    \n",
    "    argus_database = createDatabaseConnection()\n",
    "    \n",
    "    collection_of_dsapp_responses = argus_database[cfg.mongo_credentials['datasetDetailsCollection']]\n",
    "    list_of_responses = collection_of_dsapp_responses.find({'dataset_name':dataset_name})\n",
    "    \n",
    "    list_of_responses = list(list_of_responses)\n",
    "    total_image_count = len(list_of_responses)\n",
    "    \n",
    "    return {\"Total Images\": str(total_image_count), \"Responses_list\":json.loads(json_util.dumps(list_of_responses))}\n",
    "\n",
    "\n",
    "\n",
    "if __name__ == '__main__':\n",
    "    app.run()\n"
   ]
  },
  {
   "cell_type": "code",
   "execution_count": 10,
   "id": "c4ef8ee1",
   "metadata": {},
   "outputs": [
    {
     "name": "stdout",
     "output_type": "stream",
     "text": [
      "{'lat': 48.2082, 'lon': 16.3738, 'timezone': 'Europe/Vienna', 'timezone_offset': 3600, 'current': {'dt': 1645951269, 'sunrise': 1645940416, 'sunset': 1645979676, 'temp': 3.43, 'feels_like': -0.08, 'pressure': 1034, 'humidity': 72, 'dew_point': -1, 'uvi': 1.25, 'clouds': 0, 'visibility': 10000, 'wind_speed': 4.02, 'wind_deg': 14, 'wind_gust': 7.6, 'weather': [{'id': 800, 'main': 'Clear', 'description': 'clear sky', 'icon': '01d'}]}, 'minutely': [{'dt': 1645951320, 'precipitation': 0}, {'dt': 1645951380, 'precipitation': 0}, {'dt': 1645951440, 'precipitation': 0}, {'dt': 1645951500, 'precipitation': 0}, {'dt': 1645951560, 'precipitation': 0}, {'dt': 1645951620, 'precipitation': 0}, {'dt': 1645951680, 'precipitation': 0}, {'dt': 1645951740, 'precipitation': 0}, {'dt': 1645951800, 'precipitation': 0}, {'dt': 1645951860, 'precipitation': 0}, {'dt': 1645951920, 'precipitation': 0}, {'dt': 1645951980, 'precipitation': 0}, {'dt': 1645952040, 'precipitation': 0}, {'dt': 1645952100, 'precipitation': 0}, {'dt': 1645952160, 'precipitation': 0}, {'dt': 1645952220, 'precipitation': 0}, {'dt': 1645952280, 'precipitation': 0}, {'dt': 1645952340, 'precipitation': 0}, {'dt': 1645952400, 'precipitation': 0}, {'dt': 1645952460, 'precipitation': 0}, {'dt': 1645952520, 'precipitation': 0}, {'dt': 1645952580, 'precipitation': 0}, {'dt': 1645952640, 'precipitation': 0}, {'dt': 1645952700, 'precipitation': 0}, {'dt': 1645952760, 'precipitation': 0}, {'dt': 1645952820, 'precipitation': 0}, {'dt': 1645952880, 'precipitation': 0}, {'dt': 1645952940, 'precipitation': 0}, {'dt': 1645953000, 'precipitation': 0}, {'dt': 1645953060, 'precipitation': 0}, {'dt': 1645953120, 'precipitation': 0}, {'dt': 1645953180, 'precipitation': 0}, {'dt': 1645953240, 'precipitation': 0}, {'dt': 1645953300, 'precipitation': 0}, {'dt': 1645953360, 'precipitation': 0}, {'dt': 1645953420, 'precipitation': 0}, {'dt': 1645953480, 'precipitation': 0}, {'dt': 1645953540, 'precipitation': 0}, {'dt': 1645953600, 'precipitation': 0}, {'dt': 1645953660, 'precipitation': 0}, {'dt': 1645953720, 'precipitation': 0}, {'dt': 1645953780, 'precipitation': 0}, {'dt': 1645953840, 'precipitation': 0}, {'dt': 1645953900, 'precipitation': 0}, {'dt': 1645953960, 'precipitation': 0}, {'dt': 1645954020, 'precipitation': 0}, {'dt': 1645954080, 'precipitation': 0}, {'dt': 1645954140, 'precipitation': 0}, {'dt': 1645954200, 'precipitation': 0}, {'dt': 1645954260, 'precipitation': 0}, {'dt': 1645954320, 'precipitation': 0}, {'dt': 1645954380, 'precipitation': 0}, {'dt': 1645954440, 'precipitation': 0}, {'dt': 1645954500, 'precipitation': 0}, {'dt': 1645954560, 'precipitation': 0}, {'dt': 1645954620, 'precipitation': 0}, {'dt': 1645954680, 'precipitation': 0}, {'dt': 1645954740, 'precipitation': 0}, {'dt': 1645954800, 'precipitation': 0}, {'dt': 1645954860, 'precipitation': 0}, {'dt': 1645954920, 'precipitation': 0}], 'hourly': [{'dt': 1645948800, 'temp': 3.16, 'feels_like': 0.82, 'pressure': 1034, 'humidity': 73, 'dew_point': -1.06, 'uvi': 0.73, 'clouds': 6, 'visibility': 10000, 'wind_speed': 2.39, 'wind_deg': 330, 'wind_gust': 3.24, 'weather': [{'id': 800, 'main': 'Clear', 'description': 'clear sky', 'icon': '01d'}], 'pop': 0}, {'dt': 1645952400, 'temp': 3.43, 'feels_like': 0.87, 'pressure': 1034, 'humidity': 72, 'dew_point': -1, 'uvi': 1.25, 'clouds': 0, 'visibility': 10000, 'wind_speed': 2.69, 'wind_deg': 333, 'wind_gust': 3.42, 'weather': [{'id': 800, 'main': 'Clear', 'description': 'clear sky', 'icon': '01d'}], 'pop': 0}, {'dt': 1645956000, 'temp': 3.67, 'feels_like': 0.82, 'pressure': 1034, 'humidity': 69, 'dew_point': -1.31, 'uvi': 1.68, 'clouds': 5, 'visibility': 10000, 'wind_speed': 3.12, 'wind_deg': 343, 'wind_gust': 3.89, 'weather': [{'id': 800, 'main': 'Clear', 'description': 'clear sky', 'icon': '01d'}], 'pop': 0}, {'dt': 1645959600, 'temp': 4.39, 'feels_like': 1.86, 'pressure': 1034, 'humidity': 64, 'dew_point': -1.6, 'uvi': 1.83, 'clouds': 8, 'visibility': 10000, 'wind_speed': 2.88, 'wind_deg': 353, 'wind_gust': 3.6, 'weather': [{'id': 800, 'main': 'Clear', 'description': 'clear sky', 'icon': '01d'}], 'pop': 0}, {'dt': 1645963200, 'temp': 5.37, 'feels_like': 3.16, 'pressure': 1033, 'humidity': 56, 'dew_point': -2.38, 'uvi': 1.64, 'clouds': 11, 'visibility': 10000, 'wind_speed': 2.72, 'wind_deg': 360, 'wind_gust': 3.52, 'weather': [{'id': 801, 'main': 'Clouds', 'description': 'few clouds', 'icon': '02d'}], 'pop': 0}, {'dt': 1645966800, 'temp': 6.5, 'feels_like': 4.51, 'pressure': 1032, 'humidity': 47, 'dew_point': -3.53, 'uvi': 1.21, 'clouds': 5, 'visibility': 10000, 'wind_speed': 2.72, 'wind_deg': 2, 'wind_gust': 3.93, 'weather': [{'id': 800, 'main': 'Clear', 'description': 'clear sky', 'icon': '01d'}], 'pop': 0}, {'dt': 1645970400, 'temp': 7.65, 'feels_like': 5.75, 'pressure': 1031, 'humidity': 37, 'dew_point': -6.54, 'uvi': 0.67, 'clouds': 8, 'visibility': 10000, 'wind_speed': 2.91, 'wind_deg': 7, 'wind_gust': 4.35, 'weather': [{'id': 800, 'main': 'Clear', 'description': 'clear sky', 'icon': '01d'}], 'pop': 0}, {'dt': 1645974000, 'temp': 7.57, 'feels_like': 5.4, 'pressure': 1030, 'humidity': 35, 'dew_point': -6.98, 'uvi': 0.27, 'clouds': 10, 'visibility': 10000, 'wind_speed': 3.3, 'wind_deg': 12, 'wind_gust': 4.59, 'weather': [{'id': 800, 'main': 'Clear', 'description': 'clear sky', 'icon': '01d'}], 'pop': 0}, {'dt': 1645977600, 'temp': 6.65, 'feels_like': 4.32, 'pressure': 1030, 'humidity': 40, 'dew_point': -6.14, 'uvi': 0, 'clouds': 12, 'visibility': 10000, 'wind_speed': 3.26, 'wind_deg': 9, 'wind_gust': 5.18, 'weather': [{'id': 801, 'main': 'Clouds', 'description': 'few clouds', 'icon': '02d'}], 'pop': 0}, {'dt': 1645981200, 'temp': 5.26, 'feels_like': 2.35, 'pressure': 1031, 'humidity': 48, 'dew_point': -5.01, 'uvi': 0, 'clouds': 18, 'visibility': 10000, 'wind_speed': 3.7, 'wind_deg': 16, 'wind_gust': 7.65, 'weather': [{'id': 801, 'main': 'Clouds', 'description': 'few clouds', 'icon': '02n'}], 'pop': 0}, {'dt': 1645984800, 'temp': 4.54, 'feels_like': 1.44, 'pressure': 1031, 'humidity': 52, 'dew_point': -4.82, 'uvi': 0, 'clouds': 18, 'visibility': 10000, 'wind_speed': 3.76, 'wind_deg': 17, 'wind_gust': 8.69, 'weather': [{'id': 801, 'main': 'Clouds', 'description': 'few clouds', 'icon': '02n'}], 'pop': 0}, {'dt': 1645988400, 'temp': 3.83, 'feels_like': 0.82, 'pressure': 1032, 'humidity': 56, 'dew_point': -4.39, 'uvi': 0, 'clouds': 9, 'visibility': 10000, 'wind_speed': 3.38, 'wind_deg': 12, 'wind_gust': 8.51, 'weather': [{'id': 800, 'main': 'Clear', 'description': 'clear sky', 'icon': '01n'}], 'pop': 0}, {'dt': 1645992000, 'temp': 3.27, 'feels_like': 0.65, 'pressure': 1032, 'humidity': 58, 'dew_point': -4.39, 'uvi': 0, 'clouds': 10, 'visibility': 10000, 'wind_speed': 2.73, 'wind_deg': 1, 'wind_gust': 7.65, 'weather': [{'id': 800, 'main': 'Clear', 'description': 'clear sky', 'icon': '01n'}], 'pop': 0}, {'dt': 1645995600, 'temp': 2.92, 'feels_like': 0.57, 'pressure': 1032, 'humidity': 59, 'dew_point': -4.59, 'uvi': 0, 'clouds': 9, 'visibility': 10000, 'wind_speed': 2.36, 'wind_deg': 345, 'wind_gust': 6.66, 'weather': [{'id': 800, 'main': 'Clear', 'description': 'clear sky', 'icon': '01n'}], 'pop': 0}, {'dt': 1645999200, 'temp': 2.4, 'feels_like': -0.08, 'pressure': 1032, 'humidity': 61, 'dew_point': -4.59, 'uvi': 0, 'clouds': 9, 'visibility': 10000, 'wind_speed': 2.4, 'wind_deg': 325, 'wind_gust': 5.81, 'weather': [{'id': 800, 'main': 'Clear', 'description': 'clear sky', 'icon': '01n'}], 'pop': 0}, {'dt': 1646002800, 'temp': 1.88, 'feels_like': -0.76, 'pressure': 1032, 'humidity': 64, 'dew_point': -4.5, 'uvi': 0, 'clouds': 7, 'visibility': 10000, 'wind_speed': 2.46, 'wind_deg': 319, 'wind_gust': 5.75, 'weather': [{'id': 800, 'main': 'Clear', 'description': 'clear sky', 'icon': '01n'}], 'pop': 0}, {'dt': 1646006400, 'temp': 1.49, 'feels_like': -1.24, 'pressure': 1032, 'humidity': 67, 'dew_point': -4.2, 'uvi': 0, 'clouds': 6, 'visibility': 10000, 'wind_speed': 2.48, 'wind_deg': 317, 'wind_gust': 6, 'weather': [{'id': 800, 'main': 'Clear', 'description': 'clear sky', 'icon': '01n'}], 'pop': 0}, {'dt': 1646010000, 'temp': 1.11, 'feels_like': -1.87, 'pressure': 1031, 'humidity': 70, 'dew_point': -4, 'uvi': 0, 'clouds': 3, 'visibility': 10000, 'wind_speed': 2.67, 'wind_deg': 317, 'wind_gust': 6.68, 'weather': [{'id': 800, 'main': 'Clear', 'description': 'clear sky', 'icon': '01n'}], 'pop': 0}, {'dt': 1646013600, 'temp': 0.79, 'feels_like': -2.48, 'pressure': 1031, 'humidity': 72, 'dew_point': -3.93, 'uvi': 0, 'clouds': 6, 'visibility': 10000, 'wind_speed': 2.92, 'wind_deg': 321, 'wind_gust': 7.48, 'weather': [{'id': 800, 'main': 'Clear', 'description': 'clear sky', 'icon': '01n'}], 'pop': 0}, {'dt': 1646017200, 'temp': 0.51, 'feels_like': -3.08, 'pressure': 1030, 'humidity': 73, 'dew_point': -3.94, 'uvi': 0, 'clouds': 7, 'visibility': 10000, 'wind_speed': 3.23, 'wind_deg': 322, 'wind_gust': 8.37, 'weather': [{'id': 800, 'main': 'Clear', 'description': 'clear sky', 'icon': '01n'}], 'pop': 0}, {'dt': 1646020800, 'temp': 0.3, 'feels_like': -3.57, 'pressure': 1030, 'humidity': 74, 'dew_point': -3.97, 'uvi': 0, 'clouds': 7, 'visibility': 10000, 'wind_speed': 3.52, 'wind_deg': 330, 'wind_gust': 9.18, 'weather': [{'id': 800, 'main': 'Clear', 'description': 'clear sky', 'icon': '01n'}], 'pop': 0}, {'dt': 1646024400, 'temp': 0.17, 'feels_like': -3.72, 'pressure': 1031, 'humidity': 74, 'dew_point': -4.14, 'uvi': 0, 'clouds': 8, 'visibility': 10000, 'wind_speed': 3.51, 'wind_deg': 339, 'wind_gust': 9.2, 'weather': [{'id': 800, 'main': 'Clear', 'description': 'clear sky', 'icon': '01n'}], 'pop': 0}, {'dt': 1646028000, 'temp': 0.28, 'feels_like': -3.86, 'pressure': 1031, 'humidity': 72, 'dew_point': -4.42, 'uvi': 0, 'clouds': 10, 'visibility': 10000, 'wind_speed': 3.88, 'wind_deg': 339, 'wind_gust': 9.24, 'weather': [{'id': 800, 'main': 'Clear', 'description': 'clear sky', 'icon': '01d'}], 'pop': 0}, {'dt': 1646031600, 'temp': 0.79, 'feels_like': -3.74, 'pressure': 1031, 'humidity': 67, 'dew_point': -4.88, 'uvi': 0.33, 'clouds': 33, 'visibility': 10000, 'wind_speed': 4.67, 'wind_deg': 348, 'wind_gust': 8.94, 'weather': [{'id': 802, 'main': 'Clouds', 'description': 'scattered clouds', 'icon': '03d'}], 'pop': 0.23}, {'dt': 1646035200, 'temp': 1.38, 'feels_like': -3.47, 'pressure': 1031, 'humidity': 57, 'dew_point': -6.29, 'uvi': 0.78, 'clouds': 22, 'visibility': 10000, 'wind_speed': 5.53, 'wind_deg': 359, 'wind_gust': 8.75, 'weather': [{'id': 801, 'main': 'Clouds', 'description': 'few clouds', 'icon': '02d'}], 'pop': 0.19}, {'dt': 1646038800, 'temp': 2.06, 'feels_like': -2.72, 'pressure': 1031, 'humidity': 47, 'dew_point': -8.23, 'uvi': 1.34, 'clouds': 26, 'visibility': 10000, 'wind_speed': 5.76, 'wind_deg': 8, 'wind_gust': 8.32, 'weather': [{'id': 802, 'main': 'Clouds', 'description': 'scattered clouds', 'icon': '03d'}], 'pop': 0.15}, {'dt': 1646042400, 'temp': 2.82, 'feels_like': -1.58, 'pressure': 1031, 'humidity': 42, 'dew_point': -9.08, 'uvi': 1.71, 'clouds': 37, 'visibility': 10000, 'wind_speed': 5.38, 'wind_deg': 13, 'wind_gust': 7.5, 'weather': [{'id': 802, 'main': 'Clouds', 'description': 'scattered clouds', 'icon': '03d'}], 'pop': 0.13}, {'dt': 1646046000, 'temp': 3.46, 'feels_like': -0.49, 'pressure': 1031, 'humidity': 39, 'dew_point': -9.47, 'uvi': 1.86, 'clouds': 49, 'visibility': 10000, 'wind_speed': 4.8, 'wind_deg': 16, 'wind_gust': 6.7, 'weather': [{'id': 802, 'main': 'Clouds', 'description': 'scattered clouds', 'icon': '03d'}], 'pop': 0.13}, {'dt': 1646049600, 'temp': 4.13, 'feels_like': 0.68, 'pressure': 1030, 'humidity': 34, 'dew_point': -10.55, 'uvi': 1.67, 'clouds': 58, 'visibility': 10000, 'wind_speed': 4.18, 'wind_deg': 13, 'wind_gust': 6.17, 'weather': [{'id': 803, 'main': 'Clouds', 'description': 'broken clouds', 'icon': '04d'}], 'pop': 0.13}, {'dt': 1646053200, 'temp': 4.55, 'feels_like': 1.21, 'pressure': 1030, 'humidity': 31, 'dew_point': -11.43, 'uvi': 1.14, 'clouds': 100, 'visibility': 10000, 'wind_speed': 4.17, 'wind_deg': 9, 'wind_gust': 5.79, 'weather': [{'id': 804, 'main': 'Clouds', 'description': 'overcast clouds', 'icon': '04d'}], 'pop': 0}, {'dt': 1646056800, 'temp': 4.75, 'feels_like': 1.29, 'pressure': 1030, 'humidity': 29, 'dew_point': -11.79, 'uvi': 0.64, 'clouds': 100, 'visibility': 10000, 'wind_speed': 4.47, 'wind_deg': 10, 'wind_gust': 5.43, 'weather': [{'id': 804, 'main': 'Clouds', 'description': 'overcast clouds', 'icon': '04d'}], 'pop': 0.02}, {'dt': 1646060400, 'temp': 4.62, 'feels_like': 1.22, 'pressure': 1030, 'humidity': 31, 'dew_point': -11.43, 'uvi': 0.26, 'clouds': 99, 'visibility': 10000, 'wind_speed': 4.31, 'wind_deg': 11, 'wind_gust': 5.38, 'weather': [{'id': 804, 'main': 'Clouds', 'description': 'overcast clouds', 'icon': '04d'}], 'pop': 0.02}, {'dt': 1646064000, 'temp': 3.99, 'feels_like': 0.57, 'pressure': 1031, 'humidity': 35, 'dew_point': -10.14, 'uvi': 0, 'clouds': 92, 'visibility': 10000, 'wind_speed': 4.08, 'wind_deg': 8, 'wind_gust': 6.44, 'weather': [{'id': 804, 'main': 'Clouds', 'description': 'overcast clouds', 'icon': '04d'}], 'pop': 0}, {'dt': 1646067600, 'temp': 2.97, 'feels_like': -0.41, 'pressure': 1031, 'humidity': 44, 'dew_point': -8.47, 'uvi': 0, 'clouds': 86, 'visibility': 10000, 'wind_speed': 3.66, 'wind_deg': 4, 'wind_gust': 7.18, 'weather': [{'id': 804, 'main': 'Clouds', 'description': 'overcast clouds', 'icon': '04n'}], 'pop': 0}, {'dt': 1646071200, 'temp': 2.27, 'feels_like': -0.97, 'pressure': 1032, 'humidity': 49, 'dew_point': -7.55, 'uvi': 0, 'clouds': 81, 'visibility': 10000, 'wind_speed': 3.25, 'wind_deg': 6, 'wind_gust': 7.65, 'weather': [{'id': 803, 'main': 'Clouds', 'description': 'broken clouds', 'icon': '04n'}], 'pop': 0}, {'dt': 1646074800, 'temp': 1.64, 'feels_like': -1.03, 'pressure': 1032, 'humidity': 56, 'dew_point': -6.47, 'uvi': 0, 'clouds': 35, 'visibility': 10000, 'wind_speed': 2.45, 'wind_deg': 8, 'wind_gust': 5.58, 'weather': [{'id': 802, 'main': 'Clouds', 'description': 'scattered clouds', 'icon': '03n'}], 'pop': 0.06}, {'dt': 1646078400, 'temp': 1.34, 'feels_like': -1.13, 'pressure': 1033, 'humidity': 60, 'dew_point': -5.87, 'uvi': 0, 'clouds': 66, 'visibility': 10000, 'wind_speed': 2.21, 'wind_deg': 358, 'wind_gust': 4.42, 'weather': [{'id': 803, 'main': 'Clouds', 'description': 'broken clouds', 'icon': '04n'}], 'pop': 0.06}, {'dt': 1646082000, 'temp': 1.07, 'feels_like': -1.15, 'pressure': 1033, 'humidity': 62, 'dew_point': -5.54, 'uvi': 0, 'clouds': 72, 'visibility': 10000, 'wind_speed': 1.95, 'wind_deg': 347, 'wind_gust': 3.97, 'weather': [{'id': 803, 'main': 'Clouds', 'description': 'broken clouds', 'icon': '04n'}], 'pop': 0.21}, {'dt': 1646085600, 'temp': 0.8, 'feels_like': -1.24, 'pressure': 1033, 'humidity': 64, 'dew_point': -5.38, 'uvi': 0, 'clouds': 79, 'visibility': 10000, 'wind_speed': 1.78, 'wind_deg': 335, 'wind_gust': 3.38, 'weather': [{'id': 803, 'main': 'Clouds', 'description': 'broken clouds', 'icon': '04n'}], 'pop': 0.17}, {'dt': 1646089200, 'temp': 0.52, 'feels_like': -1.4, 'pressure': 1034, 'humidity': 66, 'dew_point': -5.32, 'uvi': 0, 'clouds': 82, 'visibility': 10000, 'wind_speed': 1.66, 'wind_deg': 322, 'wind_gust': 2.86, 'weather': [{'id': 803, 'main': 'Clouds', 'description': 'broken clouds', 'icon': '04n'}], 'pop': 0.17}, {'dt': 1646092800, 'temp': 0.08, 'feels_like': -1.74, 'pressure': 1034, 'humidity': 68, 'dew_point': -5.26, 'uvi': 0, 'clouds': 78, 'visibility': 10000, 'wind_speed': 1.55, 'wind_deg': 320, 'wind_gust': 2.6, 'weather': [{'id': 803, 'main': 'Clouds', 'description': 'broken clouds', 'icon': '04n'}], 'pop': 0.17}, {'dt': 1646096400, 'temp': -0.23, 'feels_like': -2.28, 'pressure': 1034, 'humidity': 70, 'dew_point': -5.28, 'uvi': 0, 'clouds': 22, 'visibility': 10000, 'wind_speed': 1.67, 'wind_deg': 305, 'wind_gust': 2.72, 'weather': [{'id': 801, 'main': 'Clouds', 'description': 'few clouds', 'icon': '02n'}], 'pop': 0}, {'dt': 1646100000, 'temp': -0.46, 'feels_like': -2.56, 'pressure': 1034, 'humidity': 71, 'dew_point': -5.31, 'uvi': 0, 'clouds': 15, 'visibility': 10000, 'wind_speed': 1.68, 'wind_deg': 310, 'wind_gust': 2.74, 'weather': [{'id': 801, 'main': 'Clouds', 'description': 'few clouds', 'icon': '02n'}], 'pop': 0}, {'dt': 1646103600, 'temp': -0.65, 'feels_like': -3.24, 'pressure': 1034, 'humidity': 72, 'dew_point': -5.36, 'uvi': 0, 'clouds': 13, 'visibility': 10000, 'wind_speed': 2.02, 'wind_deg': 301, 'wind_gust': 3.67, 'weather': [{'id': 801, 'main': 'Clouds', 'description': 'few clouds', 'icon': '02n'}], 'pop': 0}, {'dt': 1646107200, 'temp': -0.82, 'feels_like': -3.32, 'pressure': 1034, 'humidity': 73, 'dew_point': -5.36, 'uvi': 0, 'clouds': 11, 'visibility': 10000, 'wind_speed': 1.93, 'wind_deg': 303, 'wind_gust': 3.57, 'weather': [{'id': 801, 'main': 'Clouds', 'description': 'few clouds', 'icon': '02n'}], 'pop': 0}, {'dt': 1646110800, 'temp': -0.97, 'feels_like': -3.57, 'pressure': 1033, 'humidity': 73, 'dew_point': -5.36, 'uvi': 0, 'clouds': 10, 'visibility': 10000, 'wind_speed': 1.99, 'wind_deg': 307, 'wind_gust': 3.85, 'weather': [{'id': 800, 'main': 'Clear', 'description': 'clear sky', 'icon': '01n'}], 'pop': 0}, {'dt': 1646114400, 'temp': -0.99, 'feels_like': -3.61, 'pressure': 1034, 'humidity': 73, 'dew_point': -5.31, 'uvi': 0, 'clouds': 9, 'visibility': 10000, 'wind_speed': 2, 'wind_deg': 305, 'wind_gust': 3.98, 'weather': [{'id': 800, 'main': 'Clear', 'description': 'clear sky', 'icon': '01d'}], 'pop': 0}, {'dt': 1646118000, 'temp': -0.13, 'feels_like': -3.22, 'pressure': 1034, 'humidity': 69, 'dew_point': -5.4, 'uvi': 0.32, 'clouds': 4, 'visibility': 10000, 'wind_speed': 2.54, 'wind_deg': 311, 'wind_gust': 4.79, 'weather': [{'id': 800, 'main': 'Clear', 'description': 'clear sky', 'icon': '01d'}], 'pop': 0}], 'daily': [{'dt': 1645959600, 'sunrise': 1645940416, 'sunset': 1645979676, 'moonrise': 1645935240, 'moonset': 1645963980, 'moon_phase': 0.88, 'temp': {'day': 4.39, 'min': 0.53, 'max': 7.65, 'night': 2.4, 'eve': 5.26, 'morn': 0.98}, 'feels_like': {'day': 1.86, 'night': -0.08, 'eve': 2.35, 'morn': -1.58}, 'pressure': 1034, 'humidity': 64, 'dew_point': -1.6, 'wind_speed': 3.76, 'wind_deg': 17, 'wind_gust': 8.69, 'weather': [{'id': 800, 'main': 'Clear', 'description': 'clear sky', 'icon': '01d'}], 'clouds': 8, 'pop': 0.06, 'uvi': 1.83}, {'dt': 1646046000, 'sunrise': 1646026701, 'sunset': 1646066169, 'moonrise': 1646024280, 'moonset': 1646055180, 'moon_phase': 0.92, 'temp': {'day': 3.46, 'min': 0.17, 'max': 4.75, 'night': 0.8, 'eve': 2.97, 'morn': 0.17}, 'feels_like': {'day': -0.49, 'night': -1.24, 'eve': -0.41, 'morn': -3.72}, 'pressure': 1031, 'humidity': 39, 'dew_point': -9.47, 'wind_speed': 5.76, 'wind_deg': 8, 'wind_gust': 9.24, 'weather': [{'id': 802, 'main': 'Clouds', 'description': 'scattered clouds', 'icon': '03d'}], 'clouds': 49, 'pop': 0.23, 'uvi': 1.86}, {'dt': 1646132400, 'sunrise': 1646112986, 'sunset': 1646152662, 'moonrise': 1646112660, 'moonset': 1646146560, 'moon_phase': 0.95, 'temp': {'day': 4.95, 'min': -0.99, 'max': 6.8, 'night': 1.04, 'eve': 4.18, 'morn': -0.97}, 'feels_like': {'day': 2.36, 'night': -2.08, 'eve': 1.79, 'morn': -3.57}, 'pressure': 1032, 'humidity': 39, 'dew_point': -8.08, 'wind_speed': 3.32, 'wind_deg': 325, 'wind_gust': 7.16, 'weather': [{'id': 800, 'main': 'Clear', 'description': 'clear sky', 'icon': '01d'}], 'clouds': 9, 'pop': 0.17, 'uvi': 1.91}, {'dt': 1646218800, 'sunrise': 1646199269, 'sunset': 1646239154, 'moonrise': 1646200620, 'moonset': 1646237820, 'moon_phase': 0, 'temp': {'day': 6.95, 'min': -0.59, 'max': 7.48, 'night': 3.09, 'eve': 5, 'morn': -0.59}, 'feels_like': {'day': 4.65, 'night': 1.35, 'eve': 5, 'morn': -3.39}, 'pressure': 1025, 'humidity': 25, 'dew_point': -12.05, 'wind_speed': 3.62, 'wind_deg': 317, 'wind_gust': 6.87, 'weather': [{'id': 803, 'main': 'Clouds', 'description': 'broken clouds', 'icon': '04d'}], 'clouds': 66, 'pop': 0, 'uvi': 2.07}, {'dt': 1646305200, 'sunrise': 1646285552, 'sunset': 1646325647, 'moonrise': 1646288280, 'moonset': 1646328840, 'moon_phase': 0.03, 'temp': {'day': 7.88, 'min': 0.73, 'max': 8.34, 'night': 3.07, 'eve': 5.03, 'morn': 0.73}, 'feels_like': {'day': 5.66, 'night': 3.07, 'eve': 3.61, 'morn': -2.7}, 'pressure': 1021, 'humidity': 34, 'dew_point': -7.25, 'wind_speed': 4.03, 'wind_deg': 318, 'wind_gust': 9.02, 'weather': [{'id': 800, 'main': 'Clear', 'description': 'clear sky', 'icon': '01d'}], 'clouds': 0, 'pop': 0, 'uvi': 1.92}, {'dt': 1646391600, 'sunrise': 1646371834, 'sunset': 1646412138, 'moonrise': 1646375760, 'moonset': 1646419740, 'moon_phase': 0.06, 'temp': {'day': 7.49, 'min': 0.63, 'max': 8.19, 'night': 2.06, 'eve': 5.1, 'morn': 0.63}, 'feels_like': {'day': 5.68, 'night': -0.19, 'eve': 3.57, 'morn': -1.3}, 'pressure': 1020, 'humidity': 42, 'dew_point': -4.79, 'wind_speed': 2.94, 'wind_deg': 349, 'wind_gust': 5.04, 'weather': [{'id': 800, 'main': 'Clear', 'description': 'clear sky', 'icon': '01d'}], 'clouds': 5, 'pop': 0, 'uvi': 2}, {'dt': 1646478000, 'sunrise': 1646458115, 'sunset': 1646498630, 'moonrise': 1646463180, 'moonset': 1646510460, 'moon_phase': 0.09, 'temp': {'day': 5.83, 'min': -0.55, 'max': 6.63, 'night': 3.31, 'eve': 4.49, 'morn': -0.55}, 'feels_like': {'day': 3.91, 'night': -0.6, 'eve': 1.71, 'morn': -0.55}, 'pressure': 1023, 'humidity': 45, 'dew_point': -5.32, 'wind_speed': 4.66, 'wind_deg': 132, 'wind_gust': 11.52, 'weather': [{'id': 800, 'main': 'Clear', 'description': 'clear sky', 'icon': '01d'}], 'clouds': 5, 'pop': 0, 'uvi': 2}, {'dt': 1646564400, 'sunrise': 1646544395, 'sunset': 1646585121, 'moonrise': 1646550600, 'moonset': 1646601120, 'moon_phase': 0.13, 'temp': {'day': 8.74, 'min': 1.3, 'max': 9.48, 'night': 4.59, 'eve': 6.4, 'morn': 1.3}, 'feels_like': {'day': 5.77, 'night': 4.59, 'eve': 4.31, 'morn': -3.41}, 'pressure': 1020, 'humidity': 38, 'dew_point': -4.86, 'wind_speed': 5.83, 'wind_deg': 136, 'wind_gust': 13.93, 'weather': [{'id': 800, 'main': 'Clear', 'description': 'clear sky', 'icon': '01d'}], 'clouds': 2, 'pop': 0, 'uvi': 2}]}\n"
     ]
    }
   ],
   "source": [
    "import requests\n",
    "import json\n",
    "api_key = \"58004db0930cf9524c8308063af9b2ff\"\n",
    "lat = \"48.208176\"\n",
    "lon = \"16.373819\"\n",
    "url = \"https://api.openweathermap.org/data/2.5/onecall?lat=%s&lon=%s&appid=%s&units=metric\" % (lat, lon, api_key)\n",
    "response = requests.get(url)\n",
    "data = json.loads(response.text)\n",
    "print(data)"
   ]
  },
  {
   "cell_type": "code",
   "execution_count": 14,
   "id": "597f0c90",
   "metadata": {},
   "outputs": [
    {
     "ename": "KeyError",
     "evalue": "'rain'",
     "output_type": "error",
     "traceback": [
      "\u001b[0;31m---------------------------------------------------------------------------\u001b[0m",
      "\u001b[0;31mKeyError\u001b[0m                                  Traceback (most recent call last)",
      "\u001b[0;32m/var/folders/ys/m7g_nzdj5bl7gt_k013s2swr0000gn/T/ipykernel_50478/2461136694.py\u001b[0m in \u001b[0;36m<module>\u001b[0;34m\u001b[0m\n\u001b[0;32m----> 1\u001b[0;31m \u001b[0mdata\u001b[0m\u001b[0;34m[\u001b[0m\u001b[0;34m'current'\u001b[0m\u001b[0;34m]\u001b[0m\u001b[0;34m[\u001b[0m\u001b[0;34m'rain'\u001b[0m\u001b[0;34m]\u001b[0m\u001b[0;34m\u001b[0m\u001b[0;34m\u001b[0m\u001b[0m\n\u001b[0m",
      "\u001b[0;31mKeyError\u001b[0m: 'rain'"
     ]
    }
   ],
   "source": [
    "data['current']"
   ]
  },
  {
   "cell_type": "code",
   "execution_count": 15,
   "id": "3f1ad305",
   "metadata": {},
   "outputs": [
    {
     "name": "stdout",
     "output_type": "stream",
     "text": [
      "Collecting uber-rides\n",
      "  Downloading uber_rides-0.6.0-py2.py3-none-any.whl (57 kB)\n",
      "\u001b[K     |████████████████████████████████| 57 kB 1.0 MB/s eta 0:00:01\n",
      "\u001b[?25hRequirement already satisfied: pyyaml in /Users/stlp/opt/anaconda3/lib/python3.9/site-packages (from uber-rides) (6.0)\n",
      "Requirement already satisfied: requests in /Users/stlp/opt/anaconda3/lib/python3.9/site-packages (from uber-rides) (2.26.0)\n",
      "Requirement already satisfied: certifi>=2017.4.17 in /Users/stlp/opt/anaconda3/lib/python3.9/site-packages (from requests->uber-rides) (2021.10.8)\n",
      "Requirement already satisfied: charset-normalizer~=2.0.0 in /Users/stlp/opt/anaconda3/lib/python3.9/site-packages (from requests->uber-rides) (2.0.4)\n",
      "Requirement already satisfied: urllib3<1.27,>=1.21.1 in /Users/stlp/opt/anaconda3/lib/python3.9/site-packages (from requests->uber-rides) (1.26.7)\n",
      "Requirement already satisfied: idna<4,>=2.5 in /Users/stlp/opt/anaconda3/lib/python3.9/site-packages (from requests->uber-rides) (3.2)\n",
      "Installing collected packages: uber-rides\n",
      "Successfully installed uber-rides-0.6.0\n"
     ]
    }
   ],
   "source": [
    "! pip install uber-rides"
   ]
  },
  {
   "cell_type": "code",
   "execution_count": null,
   "id": "927d530a",
   "metadata": {},
   "outputs": [],
   "source": []
  }
 ],
 "metadata": {
  "kernelspec": {
   "display_name": "Python 3 (ipykernel)",
   "language": "python",
   "name": "python3"
  },
  "language_info": {
   "codemirror_mode": {
    "name": "ipython",
    "version": 3
   },
   "file_extension": ".py",
   "mimetype": "text/x-python",
   "name": "python",
   "nbconvert_exporter": "python",
   "pygments_lexer": "ipython3",
   "version": "3.9.7"
  }
 },
 "nbformat": 4,
 "nbformat_minor": 5
}
